{
 "cells": [
  {
   "cell_type": "code",
   "execution_count": 30,
   "metadata": {},
   "outputs": [],
   "source": [
    "import tensorflow as tf\n",
    "from tensorflow.keras import datasets, layers, models\n",
    "import matplotlib.pyplot as plt\n",
    "import numpy as np    # essential libraries"
   ]
  },
  {
   "cell_type": "code",
   "execution_count": 4,
   "metadata": {},
   "outputs": [],
   "source": [
    "(X_train,y_train), (X_test, y_test) = datasets.cifar10.load_data()     # load cifar 10 dataset"
   ]
  },
  {
   "cell_type": "code",
   "execution_count": 8,
   "metadata": {},
   "outputs": [
    {
     "data": {
      "text/plain": [
       "(50000, 32, 32, 3)"
      ]
     },
     "execution_count": 8,
     "metadata": {},
     "output_type": "execute_result"
    }
   ],
   "source": [
    "X_train.shape       # checking the shape of X_train, 50 k training samples, each sample is 32X32(pixel image) X3 (RGB channels) "
   ]
  },
  {
   "cell_type": "code",
   "execution_count": 9,
   "metadata": {},
   "outputs": [
    {
     "data": {
      "text/plain": [
       "(10000, 32, 32, 3)"
      ]
     },
     "execution_count": 9,
     "metadata": {},
     "output_type": "execute_result"
    }
   ],
   "source": [
    "X_test.shape                      # in X_test we have 10 K images"
   ]
  },
  {
   "cell_type": "code",
   "execution_count": 12,
   "metadata": {},
   "outputs": [
    {
     "data": {
      "text/plain": [
       "<matplotlib.image.AxesImage at 0x10674e7aa00>"
      ]
     },
     "execution_count": 12,
     "metadata": {},
     "output_type": "execute_result"
    },
    {
     "data": {
      "image/png": "[encoded data removed]",
      "text/plain": [
       "<Figure size 1080x144 with 1 Axes>"
      ]
     },
     "metadata": {
      "needs_background": "light"
     },
     "output_type": "display_data"
    }
   ],
   "source": [
    "plt.figure(figsize = (15,2))      # Reducing the size of the image and printing  it using imshow\n",
    "plt.imshow(X_train[1])"
   ]
  },
  {
   "cell_type": "code",
   "execution_count": 13,
   "metadata": {},
   "outputs": [
    {
     "data": {
      "text/plain": [
       "(50000, 1)"
      ]
     },
     "execution_count": 13,
     "metadata": {},
     "output_type": "execute_result"
    }
   ],
   "source": [
    "y_train.shape          # Checking the shape of y_train, - 50 K samples"
   ]
  },
  {
   "cell_type": "code",
   "execution_count": 14,
   "metadata": {},
   "outputs": [
    {
     "data": {
      "text/plain": [
       "array([[6],\n",
       "       [9],\n",
       "       [9],\n",
       "       [4],\n",
       "       [1]], dtype=uint8)"
      ]
     },
     "execution_count": 14,
     "metadata": {},
     "output_type": "execute_result"
    }
   ],
   "source": [
    "y_train[:5]           # first 5 samples of y_train are numbers - 6 is frog, 9 is truck, 4-deer, all these are in a 2D array, \n",
    "                      # Lets reshape this 2D array to 1D to convieninetly use y_train "
   ]
  },
  {
   "cell_type": "code",
   "execution_count": 15,
   "metadata": {},
   "outputs": [
    {
     "data": {
      "text/plain": [
       "array([6, 9, 9, 4, 1], dtype=uint8)"
      ]
     },
     "execution_count": 15,
     "metadata": {},
     "output_type": "execute_result"
    }
   ],
   "source": [
    "                                # reshape y_train using reshape(), numpy\n",
    "y_train = y_train.reshape(-1,)  # \"-1\"- keep 50 K as it is, then flatten the array [6] as 6 now leave a \",blank\" for this  \n",
    "y_train[:5]                     # now we got a 1D array instead of 2D "
   ]
  },
  {
   "cell_type": "code",
   "execution_count": 16,
   "metadata": {},
   "outputs": [],
   "source": [
    "# airoplane label 0, automobile 1, bird 2 and so-on, defined this way in y_train\n",
    "\n",
    "classes = [\"airplane\",\"automobile\",\"bird\",\"cat\",\"deer\",\"dog\",\"frog\",\"horse\",\"ship\",\"truck\"]"
   ]
  },
  {
   "cell_type": "code",
   "execution_count": 18,
   "metadata": {},
   "outputs": [
    {
     "data": {
      "text/plain": [
       "6"
      ]
     },
     "execution_count": 18,
     "metadata": {},
     "output_type": "execute_result"
    }
   ],
   "source": [
    "y_train[0]       # y_train has the information about what the corresponding X_train images are, we can use this for training \n",
    "                 # here 6 means 0th sample is a frog (inbuilt, defined in that way) "
   ]
  },
  {
   "cell_type": "code",
   "execution_count": 19,
   "metadata": {},
   "outputs": [],
   "source": [
    "#Defining a function named plot_sample, takes X,y,index and prints that image, and label it (about what it is) using y_train\n",
    "\n",
    "def plot_sample(X, y, index):\n",
    "    plt.figure(figsize = (15,2) ) \n",
    "    plt.imshow(X[index])\n",
    "    plt.xlabel(classes[y[index]])"
   ]
  },
  {
   "cell_type": "code",
   "execution_count": 20,
   "metadata": {},
   "outputs": [
    {
     "data": {
      "image/png": "[encoded data removed]",
      "text/plain": [
       "<Figure size 1080x144 with 1 Axes>"
      ]
     },
     "metadata": {
      "needs_background": "light"
     },
     "output_type": "display_data"
    }
   ],
   "source": [
    "plot_sample(X_train, y_train, 0)         # cheking our above defined function "
   ]
  },
  {
   "cell_type": "code",
   "execution_count": 22,
   "metadata": {},
   "outputs": [],
   "source": [
    "# normalize the data by dividing with 255 ,each pixel value will be normalized into 0-1 range\n",
    "X_train = X_train/255\n",
    "X_test = X_test/255"
   ]
  },
  {
   "cell_type": "code",
   "execution_count": 24,
   "metadata": {},
   "outputs": [],
   "source": [
    "# ANN model \n",
    "ann = models.Sequential([                         \n",
    "      layers.Flatten(input_shape=(32,32,3)),     # Define the input shape and flatten in to 1D\n",
    "      layers.Dense(3000, activation='relu'),     # 3D image data has a lot of features\n",
    "      layers.Dense(1000, activation='relu'),     # more no. of neurons to capture more features min dense layer \n",
    "      layers.Dense(10, activation='sigmoid')     # last o/p layer 10 neurons for 10 categories\n",
    "      ])\n",
    "\n",
    "ann.compile(optimizer='adam',                         \n",
    "            loss='sparse_categorical_crossentropy',  \n",
    "            metrics=['accuracy'])"
   ]
  },
  {
   "cell_type": "code",
   "execution_count": 25,
   "metadata": {},
   "outputs": [
    {
     "name": "stdout",
     "output_type": "stream",
     "text": [
      "Epoch 1/5\n",
      "1563/1563 [==============================] - 118s 75ms/step - loss: 2.2310 - accuracy: 0.2753\n",
      "Epoch 2/5\n",
      "1563/1563 [==============================] - 122s 78ms/step - loss: 1.6843 - accuracy: 0.3964\n",
      "Epoch 3/5\n",
      "1563/1563 [==============================] - 130s 83ms/step - loss: 1.5864 - accuracy: 0.4297\n",
      "Epoch 4/5\n",
      "1563/1563 [==============================] - 114s 73ms/step - loss: 1.5318 - accuracy: 0.4491\n",
      "Epoch 5/5\n",
      "1563/1563 [==============================] - 116s 75ms/step - loss: 1.4936 - accuracy: 0.4663\n"
     ]
    },
    {
     "data": {
      "text/plain": [
       "<tensorflow.python.keras.callbacks.History at 0x106730ad280>"
      ]
     },
     "execution_count": 25,
     "metadata": {},
     "output_type": "execute_result"
    }
   ],
   "source": [
    "ann.fit(X_train, y_train, epochs=5)                # training \n"
   ]
  },
  {
   "cell_type": "code",
   "execution_count": 26,
   "metadata": {},
   "outputs": [
    {
     "name": "stdout",
     "output_type": "stream",
     "text": [
      "313/313 [==============================] - 3s 9ms/step - loss: 1.5274 - accuracy: 0.4527\n"
     ]
    },
    {
     "data": {
      "text/plain": [
       "[1.5273629426956177, 0.4526999890804291]"
      ]
     },
     "execution_count": 26,
     "metadata": {},
     "output_type": "execute_result"
    }
   ],
   "source": [
    "ann.evaluate(X_test, y_test)          # evaluating accuracy on testsamples, poor accuracy "
   ]
  },
  {
   "cell_type": "code",
   "execution_count": 28,
   "metadata": {},
   "outputs": [
    {
     "name": "stdout",
     "output_type": "stream",
     "text": [
      "Model: \"sequential_1\"\n",
      "_________________________________________________________________\n",
      "Layer (type)                 Output Shape              Param #   \n",
      "=================================================================\n",
      "flatten_1 (Flatten)          (None, 3072)              0         \n",
      "_________________________________________________________________\n",
      "dense_3 (Dense)              (None, 3000)              9219000   \n",
      "_________________________________________________________________\n",
      "dense_4 (Dense)              (None, 1000)              3001000   \n",
      "_________________________________________________________________\n",
      "dense_5 (Dense)              (None, 10)                10010     \n",
      "=================================================================\n",
      "Total params: 12,230,010\n",
      "Trainable params: 12,230,010\n",
      "Non-trainable params: 0\n",
      "_________________________________________________________________\n"
     ]
    }
   ],
   "source": [
    "ann.summary()   # no of parameters is soo high in ANN, hence more complex and a slower training "
   ]
  },
  {
   "cell_type": "code",
   "execution_count": 31,
   "metadata": {},
   "outputs": [
    {
     "name": "stdout",
     "output_type": "stream",
     "text": [
      "Classification Report: \n",
      "               precision    recall  f1-score   support\n",
      "\n",
      "           0       0.55      0.46      0.50      1000\n",
      "           1       0.63      0.48      0.55      1000\n",
      "           2       0.42      0.15      0.22      1000\n",
      "           3       0.32      0.38      0.35      1000\n",
      "           4       0.35      0.51      0.41      1000\n",
      "           5       0.39      0.29      0.33      1000\n",
      "           6       0.41      0.63      0.50      1000\n",
      "           7       0.62      0.39      0.48      1000\n",
      "           8       0.47      0.73      0.57      1000\n",
      "           9       0.54      0.50      0.52      1000\n",
      "\n",
      "    accuracy                           0.45     10000\n",
      "   macro avg       0.47      0.45      0.44     10000\n",
      "weighted avg       0.47      0.45      0.44     10000\n",
      "\n"
     ]
    }
   ],
   "source": [
    "from sklearn.metrics import confusion_matrix, classification_report\n",
    "import numpy as np\n",
    "y_pred = ann.predict(X_test)\n",
    "y_pred_classes = [np.argmax(element) for element in y_pred]\n",
    "\n",
    "print(\"Classification Report: \\n\", classification_report(y_test, y_pred_classes))       "
   ]
  },
  {
   "cell_type": "code",
   "execution_count": 32,
   "metadata": {},
   "outputs": [],
   "source": [
    "# CNN model \n",
    "cnn = models.Sequential([\n",
    "  \n",
    "    # cnn\n",
    "    layers.Conv2D(filters=32, kernel_size=(3, 3), activation='relu',input_shape=(32,32,3)),\n",
    "    layers.MaxPooling2D((2, 2)),\n",
    "    \n",
    "    layers.Conv2D(filters=64, kernel_size=(3, 3), activation='relu'),\n",
    "    layers.MaxPooling2D((2, 2)),    \n",
    "    \n",
    "    \n",
    "    #dense\n",
    "    layers.Flatten(),    \n",
    "    layers.Dense(64, activation='relu'),     \n",
    "    layers.Dense(10, activation='softmax')    \n",
    "    \n",
    "])\n",
    "\n",
    "#  2 convolution layers, 2 max poling layers \n",
    "#  conv-pooling-activation-conv-pooling-activation-dense network-output layer    "
   ]
  },
  {
   "cell_type": "code",
   "execution_count": 33,
   "metadata": {},
   "outputs": [],
   "source": [
    "cnn.compile(optimizer = 'adam',                          # compiling the model\n",
    "              loss = 'sparse_categorical_crossentropy',\n",
    "              metrics=['accuracy'])\n"
   ]
  },
  {
   "cell_type": "code",
   "execution_count": 34,
   "metadata": {},
   "outputs": [
    {
     "name": "stdout",
     "output_type": "stream",
     "text": [
      "Epoch 1/20\n",
      "1563/1563 [==============================] - 32s 20ms/step - loss: 1.6905 - accuracy: 0.3815\n",
      "Epoch 2/20\n",
      "1563/1563 [==============================] - 30s 19ms/step - loss: 1.1361 - accuracy: 0.6007\n",
      "Epoch 3/20\n",
      "1563/1563 [==============================] - 31s 20ms/step - loss: 0.9905 - accuracy: 0.6558\n",
      "Epoch 4/20\n",
      "1563/1563 [==============================] - 31s 20ms/step - loss: 0.8934 - accuracy: 0.6917\n",
      "Epoch 5/20\n",
      "1563/1563 [==============================] - 28s 18ms/step - loss: 0.8151 - accuracy: 0.7175\n",
      "Epoch 6/20\n",
      "1563/1563 [==============================] - 32s 21ms/step - loss: 0.7484 - accuracy: 0.7377\n",
      "Epoch 7/20\n",
      "1563/1563 [==============================] - 32s 20ms/step - loss: 0.7030 - accuracy: 0.7562\n",
      "Epoch 8/20\n",
      "1563/1563 [==============================] - 30s 19ms/step - loss: 0.6602 - accuracy: 0.7678\n",
      "Epoch 9/20\n",
      "1563/1563 [==============================] - 29s 19ms/step - loss: 0.6131 - accuracy: 0.7861\n",
      "Epoch 10/20\n",
      "1563/1563 [==============================] - 30s 19ms/step - loss: 0.5679 - accuracy: 0.8023\n",
      "Epoch 11/20\n",
      "1563/1563 [==============================] - 29s 18ms/step - loss: 0.5234 - accuracy: 0.8168\n",
      "Epoch 12/20\n",
      "1563/1563 [==============================] - 28s 18ms/step - loss: 0.4976 - accuracy: 0.8253\n",
      "Epoch 13/20\n",
      "1563/1563 [==============================] - 28s 18ms/step - loss: 0.4620 - accuracy: 0.8396\n",
      "Epoch 14/20\n",
      "1563/1563 [==============================] - 28s 18ms/step - loss: 0.4278 - accuracy: 0.8493\n",
      "Epoch 15/20\n",
      "1563/1563 [==============================] - 29s 19ms/step - loss: 0.4004 - accuracy: 0.8589\n",
      "Epoch 16/20\n",
      "1563/1563 [==============================] - 38s 24ms/step - loss: 0.3698 - accuracy: 0.8698\n",
      "Epoch 17/20\n",
      "1563/1563 [==============================] - 34s 22ms/step - loss: 0.3569 - accuracy: 0.8745\n",
      "Epoch 18/20\n",
      "1563/1563 [==============================] - 30s 19ms/step - loss: 0.3191 - accuracy: 0.8881\n",
      "Epoch 19/20\n",
      "1563/1563 [==============================] - 34s 22ms/step - loss: 0.3055 - accuracy: 0.8921\n",
      "Epoch 20/20\n",
      "1563/1563 [==============================] - 28s 18ms/step - loss: 0.2860 - accuracy: 0.8994\n"
     ]
    },
    {
     "data": {
      "text/plain": [
       "<tensorflow.python.keras.callbacks.History at 0x1067c4e20d0>"
      ]
     },
     "execution_count": 34,
     "metadata": {},
     "output_type": "execute_result"
    }
   ],
   "source": [
    "cnn.fit(X_train, y_train, epochs=20)                    # train the model using the data "
   ]
  },
  {
   "cell_type": "code",
   "execution_count": 35,
   "metadata": {},
   "outputs": [
    {
     "name": "stdout",
     "output_type": "stream",
     "text": [
      "313/313 [==============================] - 2s 5ms/step - loss: 1.2938 - accuracy: 0.6791\n"
     ]
    },
    {
     "data": {
      "text/plain": [
       "[1.2937636375427246, 0.679099977016449]"
      ]
     },
     "execution_count": 35,
     "metadata": {},
     "output_type": "execute_result"
    }
   ],
   "source": [
    "cnn.evaluate(X_test,y_test)               # evaluate the above model using test sample data"
   ]
  },
  {
   "cell_type": "code",
   "execution_count": 36,
   "metadata": {},
   "outputs": [
    {
     "data": {
      "text/plain": [
       "array([[3],\n",
       "       [8],\n",
       "       [8],\n",
       "       [0],\n",
       "       [6]], dtype=uint8)"
      ]
     },
     "execution_count": 36,
     "metadata": {},
     "output_type": "execute_result"
    }
   ],
   "source": [
    "y_test[:5]                               # Similar to y_train ,y_test is also in 2D"
   ]
  },
  {
   "cell_type": "code",
   "execution_count": 37,
   "metadata": {},
   "outputs": [
    {
     "data": {
      "text/plain": [
       "array([3, 8, 8, 0, 6], dtype=uint8)"
      ]
     },
     "execution_count": 37,
     "metadata": {},
     "output_type": "execute_result"
    }
   ],
   "source": [
    "y_test = y_test.reshape(-1,)            # Reshaping it to 1D so that we can use y_test variable in plotting function\n",
    " y_test[:5]"
   ]
  },
  {
   "cell_type": "code",
   "execution_count": 38,
   "metadata": {},
   "outputs": [
    {
     "data": {
      "image/png": "[encoded data removed]",
      "text/plain": [
       "<Figure size 1080x144 with 1 Axes>"
      ]
     },
     "metadata": {
      "needs_background": "light"
     },
     "output_type": "display_data"
    }
   ],
   "source": [
    "plot_sample(X_test, y_test, 1)"
   ]
  },
  {
   "cell_type": "code",
   "execution_count": 39,
   "metadata": {},
   "outputs": [
    {
     "data": {
      "image/png": "[encoded data removed]",
      "text/plain": [
       "<Figure size 1080x144 with 1 Axes>"
      ]
     },
     "metadata": {
      "needs_background": "light"
     },
     "output_type": "display_data"
    }
   ],
   "source": [
    "plot_sample(X_test, y_test, 0)"
   ]
  },
  {
   "cell_type": "code",
   "execution_count": 40,
   "metadata": {},
   "outputs": [
    {
     "data": {
      "text/plain": [
       "array([[4.41712388e-07, 1.92156691e-07, 2.36790856e-05, 9.97344315e-01,\n",
       "        3.70219873e-08, 2.60594441e-03, 1.43627485e-05, 1.35172595e-10,\n",
       "        1.09635121e-05, 2.11559907e-07],\n",
       "       [2.38699578e-02, 8.77629399e-01, 1.11689875e-08, 2.26918984e-10,\n",
       "        1.33433181e-13, 3.68789255e-13, 5.38155166e-14, 2.87107794e-12,\n",
       "        9.84979942e-02, 2.75592515e-06],\n",
       "       [2.83664912e-01, 2.14317277e-01, 3.84848448e-04, 9.23778571e-04,\n",
       "        1.28520740e-04, 5.02635612e-06, 7.22473175e-08, 1.22831678e-02,\n",
       "        4.79053557e-01, 9.23890248e-03],\n",
       "       [9.37574148e-01, 2.12705745e-05, 1.66812436e-06, 3.67018856e-07,\n",
       "        6.23899736e-02, 6.66893984e-10, 1.75688596e-11, 8.77269229e-11,\n",
       "        1.24983280e-05, 1.06843217e-07],\n",
       "       [1.30748665e-08, 1.17007530e-05, 6.82970703e-01, 2.44765133e-02,\n",
       "        2.60668606e-01, 1.11139918e-04, 3.17611806e-02, 1.67475145e-09,\n",
       "        3.66970587e-09, 6.40236024e-08]], dtype=float32)"
      ]
     },
     "execution_count": 40,
     "metadata": {},
     "output_type": "execute_result"
    }
   ],
   "source": [
    "y_pred = cnn.predict(X_test)           # predict the values and store in an array\n",
    "y_pred[:5]"
   ]
  },
  {
   "cell_type": "code",
   "execution_count": 42,
   "metadata": {},
   "outputs": [
    {
     "data": {
      "text/plain": [
       "[3, 1, 8, 0, 2]"
      ]
     },
     "execution_count": 42,
     "metadata": {},
     "output_type": "execute_result"
    }
   ],
   "source": [
    "y_classes = [np.argmax(element) for element in y_pred]      # apply argmax on the predictions to get the same values as y_train\n",
    "y_classes[:5]"
   ]
  },
  {
   "cell_type": "code",
   "execution_count": 33,
   "metadata": {},
   "outputs": [
    {
     "data": {
      "text/plain": [
       "array([3, 8, 8, 0, 6], dtype=uint8)"
      ]
     },
     "execution_count": 33,
     "metadata": {},
     "output_type": "execute_result"
    }
   ],
   "source": [
    "y_test[:5]"
   ]
  },
  {
   "cell_type": "code",
   "execution_count": 46,
   "metadata": {},
   "outputs": [
    {
     "data": {
      "image/png": "[encoded data removed]",
      "text/plain": [
       "<Figure size 1080x144 with 1 Axes>"
      ]
     },
     "metadata": {
      "needs_background": "light"
     },
     "output_type": "display_data"
    }
   ],
   "source": [
    "plot_sample(X_test, y_test, 5)"
   ]
  },
  {
   "cell_type": "code",
   "execution_count": 47,
   "metadata": {},
   "outputs": [
    {
     "data": {
      "text/plain": [
       "'frog'"
      ]
     },
     "execution_count": 47,
     "metadata": {},
     "output_type": "execute_result"
    }
   ],
   "source": [
    "classes[y_classes[5]]"
   ]
  },
  {
   "cell_type": "code",
   "execution_count": 60,
   "metadata": {},
   "outputs": [
    {
     "name": "stdout",
     "output_type": "stream",
     "text": [
      "Classification_report :\n",
      "               precision    recall  f1-score   support\n",
      "\n",
      "           0       0.68      0.73      0.71      1000\n",
      "           1       0.82      0.80      0.81      1000\n",
      "           2       0.53      0.62      0.57      1000\n",
      "           3       0.48      0.49      0.49      1000\n",
      "           4       0.65      0.57      0.61      1000\n",
      "           5       0.58      0.61      0.59      1000\n",
      "           6       0.79      0.74      0.76      1000\n",
      "           7       0.72      0.72      0.72      1000\n",
      "           8       0.79      0.75      0.77      1000\n",
      "           9       0.80      0.74      0.77      1000\n",
      "\n",
      "    accuracy                           0.68     10000\n",
      "   macro avg       0.68      0.68      0.68     10000\n",
      "weighted avg       0.68      0.68      0.68     10000\n",
      "\n"
     ]
    }
   ],
   "source": [
    "print(\"Classification_report :\\n\", classification_report(y_test, y_classes))"
   ]
  },
  {
   "cell_type": "code",
   "execution_count": 58,
   "metadata": {},
   "outputs": [
    {
     "name": "stdout",
     "output_type": "stream",
     "text": [
      "Model: \"sequential_2\"\n",
      "_________________________________________________________________\n",
      "Layer (type)                 Output Shape              Param #   \n",
      "=================================================================\n",
      "conv2d (Conv2D)              (None, 30, 30, 32)        896       \n",
      "_________________________________________________________________\n",
      "max_pooling2d (MaxPooling2D) (None, 15, 15, 32)        0         \n",
      "_________________________________________________________________\n",
      "conv2d_1 (Conv2D)            (None, 13, 13, 64)        18496     \n",
      "_________________________________________________________________\n",
      "max_pooling2d_1 (MaxPooling2 (None, 6, 6, 64)          0         \n",
      "_________________________________________________________________\n",
      "flatten_2 (Flatten)          (None, 2304)              0         \n",
      "_________________________________________________________________\n",
      "dense_6 (Dense)              (None, 64)                147520    \n",
      "_________________________________________________________________\n",
      "dense_7 (Dense)              (None, 10)                650       \n",
      "=================================================================\n",
      "Total params: 167,562\n",
      "Trainable params: 167,562\n",
      "Non-trainable params: 0\n",
      "_________________________________________________________________\n"
     ]
    }
   ],
   "source": [
    "cnn.summary()"
   ]
  },
  {
   "cell_type": "code",
   "execution_count": 49,
   "metadata": {},
   "outputs": [
    {
     "data": {
      "image/png": "[encoded data removed]",
      "text/plain": [
       "<Figure size 1080x144 with 1 Axes>"
      ]
     },
     "metadata": {
      "needs_background": "light"
     },
     "output_type": "display_data"
    }
   ],
   "source": [
    "plot_sample(X_test, y_test, 3)"
   ]
  },
  {
   "cell_type": "code",
   "execution_count": 50,
   "metadata": {},
   "outputs": [
    {
     "data": {
      "text/plain": [
       "'airplane'"
      ]
     },
     "execution_count": 50,
     "metadata": {},
     "output_type": "execute_result"
    }
   ],
   "source": [
    "classes[y_classes[3]]                 # prediction is correct here"
   ]
  },
  {
   "cell_type": "code",
   "execution_count": 51,
   "metadata": {},
   "outputs": [
    {
     "data": {
      "image/png": "[encoded data removed]",
      "text/plain": [
       "<Figure size 1080x144 with 1 Axes>"
      ]
     },
     "metadata": {
      "needs_background": "light"
     },
     "output_type": "display_data"
    }
   ],
   "source": [
    "plot_sample(X_test, y_test, 21)"
   ]
  },
  {
   "cell_type": "code",
   "execution_count": 52,
   "metadata": {},
   "outputs": [
    {
     "data": {
      "text/plain": [
       "'bird'"
      ]
     },
     "execution_count": 52,
     "metadata": {},
     "output_type": "execute_result"
    }
   ],
   "source": [
    "classes[y_classes[21]]                 # prediction is a mismatch. Some evn us cant tell its an airplane/bird"
   ]
  },
  {
   "cell_type": "code",
   "execution_count": 55,
   "metadata": {},
   "outputs": [
    {
     "data": {
      "image/png": "[encoded data removed]",
      "text/plain": [
       "<Figure size 1080x144 with 1 Axes>"
      ]
     },
     "metadata": {
      "needs_background": "light"
     },
     "output_type": "display_data"
    }
   ],
   "source": [
    "plot_sample(X_test, y_test, 12)"
   ]
  },
  {
   "cell_type": "code",
   "execution_count": 56,
   "metadata": {},
   "outputs": [
    {
     "data": {
      "text/plain": [
       "'dog'"
      ]
     },
     "execution_count": 56,
     "metadata": {},
     "output_type": "execute_result"
    }
   ],
   "source": [
    "classes[y_classes[12]]                # correct prediction"
   ]
  },
  {
   "cell_type": "code",
   "execution_count": 57,
   "metadata": {},
   "outputs": [
    {
     "data": {
      "image/png": "[encoded data removed]",
      "text/plain": [
       "<Figure size 1080x144 with 1 Axes>"
      ]
     },
     "metadata": {
      "needs_background": "light"
     },
     "output_type": "display_data"
    }
   ],
   "source": [
    "plot_sample(X_test, y_test, 13)"
   ]
  },
  {
   "cell_type": "code",
   "execution_count": 47,
   "metadata": {},
   "outputs": [
    {
     "data": {
      "text/plain": [
       "'horse'"
      ]
     },
     "execution_count": 47,
     "metadata": {},
     "output_type": "execute_result"
    }
   ],
   "source": [
    "classes[y_classes[13]]                # correct prediction"
   ]
  },
  {
   "cell_type": "code",
   "execution_count": 48,
   "metadata": {},
   "outputs": [
    {
     "data": {
      "image/png": "[encoded data removed]",
      "text/plain": [
       "<Figure size 1080x144 with 1 Axes>"
      ]
     },
     "metadata": {
      "needs_background": "light"
     },
     "output_type": "display_data"
    }
   ],
   "source": [
    "plot_sample(X_test, y_test, 15)"
   ]
  },
  {
   "cell_type": "code",
   "execution_count": 49,
   "metadata": {},
   "outputs": [
    {
     "data": {
      "text/plain": [
       "'frog'"
      ]
     },
     "execution_count": 49,
     "metadata": {},
     "output_type": "execute_result"
    }
   ],
   "source": [
    "classes[y_classes[15]]                # a mismatch"
   ]
  }
 ],
 "metadata": {
  "kernelspec": {
   "display_name": "Python 3",
   "language": "python",
   "name": "python3"
  },
  "language_info": {
   "codemirror_mode": {
    "name": "ipython",
    "version": 3
   },
   "file_extension": ".py",
   "mimetype": "text/x-python",
   "name": "python",
   "nbconvert_exporter": "python",
   "pygments_lexer": "ipython3",
   "version": "3.8.5"
  }
 },
 "nbformat": 4,
 "nbformat_minor": 4
}
